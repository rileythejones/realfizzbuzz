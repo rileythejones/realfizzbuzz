{
 "cells": [
  {
   "cell_type": "code",
   "execution_count": null,
   "metadata": {},
   "outputs": [
    {
     "name": "stdout",
     "output_type": "stream",
     "text": [
      "Enter the path to the CSV file\n"
     ]
    }
   ],
   "source": [
    "import csv\n",
    "from datetime import datetime as dt\n",
    "from pydblite.sqlite import Database, Table\n",
    "\n",
    "\n",
    "db = Database(\":memory:\")\n",
    "table = Table('dummy', db)\n",
    "table.create(\n",
    "             ('file', 'TEXT'), # path\n",
    "             ('valid', 'INTEGER'), # number of valid rows\n",
    "             ('invalid', 'INTEGER'), # number of invalid rows\n",
    "             ('total', 'INTEGER'), # total number of rows\n",
    "             ('time', 'REAL'), # duration in microseconds\n",
    "             ('start', 'DATE'), # start time \n",
    "             ('end', 'DATE')) # end time\n",
    "table.open()\n",
    "\n",
    "table2 = Table('dummy2', db)\n",
    "table2.create(('invalid_row_index', 'INTEGER'), ('error', 'TEXT'))\n",
    "table2.open()\n",
    "\n",
    "print(\"Enter the path to the CSV file\")\n",
    "path = input()\n",
    "\n",
    "with open(path, newline='') as csvfile:\n",
    "    start = dt.now()\n",
    "    read = csv.reader(csvfile)\n",
    "    results = []\n",
    "    errors = []\n",
    "    counter = 0\n",
    "    for row in read:\n",
    "        \n",
    "        try:\n",
    "            # remove empty elements and convert to int\n",
    "            row_clean = [int(x) for x in row if x]\n",
    "            \n",
    "            if len(row_clean) == 20:\n",
    "                results.append(row_clean)\n",
    "            else:\n",
    "                table2.insert(invalid_row_index=counter, error='number of columns')\n",
    "\n",
    "                errors.append(\"invalid row, number of columns\")\n",
    "\n",
    "        except:\n",
    "            table2.insert(invalid_row_index=counter, error='non-integer')\n",
    "\n",
    "            errors.append(\"invalid row, non-integer\")\n",
    "            \n",
    "        counter += 1\n",
    "            \n",
    "    def fizzbuzz(n):\n",
    "        if '3' in str(n):\n",
    "            return 'lucky'\n",
    "        if n % 15 == 0:\n",
    "            return 'fizzbuzz'\n",
    "        if n % 5 == 0:\n",
    "            return 'buzz'\n",
    "        if n % 3 == 0:\n",
    "            return 'fizz'\n",
    "        else:\n",
    "            return n\n",
    "    \n",
    "    transforms = []\n",
    "    for row in results:\n",
    "        row = list(map(fizzbuzz, row))\n",
    "        transforms.append(row)\n",
    "        \n",
    "        \n",
    "    scores = []\n",
    "    for row in transforms:\n",
    "        elements_count = {}\n",
    "        for element in row:\n",
    "            if type(element) == type(123):\n",
    "                if 'integer' in elements_count:\n",
    "                    elements_count['integer'] += 1\n",
    "                else:\n",
    "                    elements_count['integer'] = 1\n",
    "\n",
    "            elif element in elements_count:\n",
    "                elements_count[element] += 1\n",
    "            else:\n",
    "                elements_count[element] = 1\n",
    "          \n",
    "        scores.append(elements_count)\n",
    "\n",
    "        \n",
    "    end = dt.now()\n",
    "\n",
    "    duration = start - end\n",
    "    \n",
    "    table.insert(file=path, valid=len(results), invalid=len(errors), \n",
    "             total=counter, time=duration.microseconds, start=start, end=end)\n",
    "    \n",
    "    table.commit()\n",
    "    table2.commit()"
   ]
  },
  {
   "cell_type": "code",
   "execution_count": 15,
   "metadata": {},
   "outputs": [
    {
     "data": {
      "text/plain": [
       "{'__id__': 1,\n",
       " 'file': 'realfizzbuzz.csv',\n",
       " 'valid': 3,\n",
       " 'invalid': 3,\n",
       " 'total': 6,\n",
       " 'time': 0.0,\n",
       " 'start': '2021-07-04 23:38:22.859030',\n",
       " 'end': '2021-07-04 23:38:22.859030'}"
      ]
     },
     "execution_count": 15,
     "metadata": {},
     "output_type": "execute_result"
    }
   ],
   "source": [
    "table[1]"
   ]
  },
  {
   "cell_type": "code",
   "execution_count": 16,
   "metadata": {},
   "outputs": [
    {
     "data": {
      "text/plain": [
       "{'__id__': 1, 'invalid_row_index': 3, 'error': 'number of columns'}"
      ]
     },
     "execution_count": 16,
     "metadata": {},
     "output_type": "execute_result"
    }
   ],
   "source": [
    "table2[1]"
   ]
  },
  {
   "cell_type": "code",
   "execution_count": 44,
   "metadata": {},
   "outputs": [
    {
     "data": {
      "text/plain": [
       "<pydblite.sqlite.Table at 0x11c9a55e250>"
      ]
     },
     "execution_count": 44,
     "metadata": {},
     "output_type": "execute_result"
    }
   ],
   "source": [
    "table3 = Table('dummy3', db)\n",
    "table3.create(('report', 'TEXT'))\n",
    "table3.open()"
   ]
  },
  {
   "cell_type": "code",
   "execution_count": 45,
   "metadata": {},
   "outputs": [],
   "source": [
    "# report\n",
    "for report in scores:\n",
    "    fizz = 0\n",
    "    buzz = 0\n",
    "    fizzbuzz = 0 \n",
    "    lucky = 0 \n",
    "    integer = 0\n",
    "    \n",
    "    if 'fizz' in report:\n",
    "        fizz = report['fizz']\n",
    "    if 'buzz' in report:\n",
    "        buzz = report['buzz']\n",
    "    if 'fizzbuzz' in report:\n",
    "        fizzbuzz = report['fizzbuzz']\n",
    "    if 'lucky' in report:\n",
    "        lucky = report['lucky']\n",
    "    if 'integer' in report:\n",
    "        integer = report['integer']\n",
    "        \n",
    "    string_result = f\"fizz: {fizz}, buzz: {buzz}, fizzbuzz: {fizzbuzz}, lucky: {lucky}, integer: {integer}\"\n",
    "    \n",
    "    table3.insert(report=string_result)\n",
    "table3.commit()"
   ]
  },
  {
   "cell_type": "code",
   "execution_count": 46,
   "metadata": {},
   "outputs": [
    {
     "data": {
      "text/plain": [
       "{'__id__': 1, 'report': 'fizz: 4, buzz: 3, fizzbuzz: 1, lucky: 2, integer: 10'}"
      ]
     },
     "execution_count": 46,
     "metadata": {},
     "output_type": "execute_result"
    }
   ],
   "source": [
    "table3[1]"
   ]
  }
 ],
 "metadata": {
  "kernelspec": {
   "display_name": "Python 3",
   "language": "python",
   "name": "python3"
  },
  "language_info": {
   "codemirror_mode": {
    "name": "ipython",
    "version": 3
   },
   "file_extension": ".py",
   "mimetype": "text/x-python",
   "name": "python",
   "nbconvert_exporter": "python",
   "pygments_lexer": "ipython3",
   "version": "3.8.5"
  }
 },
 "nbformat": 4,
 "nbformat_minor": 4
}
